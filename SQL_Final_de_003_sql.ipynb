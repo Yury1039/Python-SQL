{
  "nbformat": 4,
  "nbformat_minor": 5,
  "metadata": {
    "kernelspec": {
      "display_name": "Python 3",
      "language": "python",
      "name": "python3"
    },
    "language_info": {
      "codemirror_mode": {
        "name": "ipython",
        "version": 3
      },
      "file_extension": ".py",
      "mimetype": "text/x-python",
      "name": "python",
      "nbconvert_exporter": "python",
      "pygments_lexer": "ipython3",
      "version": "3.6.9"
    },
    "colab": {
      "name": "SQL Final de 003-sql.ipynb",
      "provenance": []
    }
  },
  "cells": [
    {
      "cell_type": "markdown",
      "metadata": {
        "tags": [],
        "id": "7afc30e1-77dc-4369-8fcc-9ef28a42a853"
      },
      "source": [
        "Programación en SQL\n",
        "==="
      ],
      "id": "7afc30e1-77dc-4369-8fcc-9ef28a42a853"
    },
    {
      "cell_type": "markdown",
      "metadata": {
        "id": "9150e748-cdc3-43be-b99b-c547adda8bd5"
      },
      "source": [
        "Archivos de datos\n",
        "---"
      ],
      "id": "9150e748-cdc3-43be-b99b-c547adda8bd5"
    },
    {
      "cell_type": "code",
      "metadata": {
        "id": "327e8f37-5af4-45d7-a31f-66a1ce4f64e5",
        "colab": {
          "base_uri": "https://localhost:8080/"
        },
        "outputId": "26c8e39b-908b-42a1-864a-acb1bfd38f6f"
      },
      "source": [
        "%%writefile data.csv\n",
        "E,1,273.08,600,2016-12-31,0.21,BDGD\n",
        "D,2,756.37,500,2019-02-28,0.37,BCCC\n",
        "E,3,305.43,100,2017-05-21,0.21,BAED\n",
        "D,4,662.69,800,2017-03-26,0.23,BGDD\n",
        "C,5,822.81,100,2017-11-17,0.35,GGFC\n",
        "A,6,391.42,300,2018-05-15,0.22,BFGB\n",
        "C,7,755.27,800,2018-07-04,0.47,GCDB\n",
        "E,8,302.86,700,2016-12-22,0.14,DFCC\n",
        "C,9,267.42,200,2018-04-18,0.10,DGCE\n",
        "A,10,816.51,600,2019-04-25,0.40,DAGC\n",
        "C,11,346.64,900,2017-04-18,0.15,FBBC\n",
        "B,12,999.72,800,2016-11-09,0.26,FCGD\n",
        "C,13,712.61,400,2017-10-23,0.31,EDDA\n",
        "E,14,832.44,800,2016-11-22,0.39,EGFD\n",
        "C,15,370.58,900,2016-10-01,0.11,GCDD\n",
        "B,16,283.40,600,2019-04-11,0.14,BDEE\n",
        "E,17,692.93,200,2018-03-25,0.25,BGGA\n",
        "A,18,142.99,100,2017-02-12,0.48,GGFD\n",
        "C,19,570.43,400,2019-04-12,0.48,FBEE\n",
        "A,20,938.16,300,2016-09-12,0.19,BECB\n",
        "B,21,409.34,400,2019-04-29,0.23,GFAE\n",
        "E,22,118.77,900,2016-10-29,0.32,GEFE\n",
        "E,23,325.15,200,2019-04-21,0.19,FBGC\n",
        "C,24,482.32,300,2019-05-03,0.11,CCCE\n",
        "E,25,600.90,700,2018-11-07,0.36,BBBA\n",
        "A,26,456.47,400,2018-01-28,0.11,FGED\n",
        "E,27,720.90,800,2017-01-16,0.12,FBGD\n",
        "B,28,326.45,700,2017-07-27,0.36,AGAA\n",
        "D,29,317.77,200,2017-02-27,0.47,GCEA\n",
        "A,30,135.80,900,2017-01-26,0.23,EGAB"
      ],
      "id": "327e8f37-5af4-45d7-a31f-66a1ce4f64e5",
      "execution_count": null,
      "outputs": [
        {
          "output_type": "stream",
          "name": "stdout",
          "text": [
            "Writing data.csv\n"
          ]
        }
      ]
    },
    {
      "cell_type": "code",
      "metadata": {
        "id": "174dd02d-4382-45b1-ba4c-d618be2c599c",
        "colab": {
          "base_uri": "https://localhost:8080/"
        },
        "outputId": "b7926cac-a6f6-426b-df69-39cef9c25e74"
      },
      "source": [
        "%%writefile tbl0.csv\n",
        "A,5000,900,NMNJL,0.4\n",
        "B,7000,100,OLPKN,0.2\n",
        "C,1000,600,LMMML,0.2\n",
        "D,4000,600,PJLJL,0.4\n",
        "E,4000,200,PONNJ,0.4\n",
        "F,2000,300,NNPJO,0.3\n",
        "G,5000,100,NLPLO,0.2\n",
        "H,1000,200,NLPPO,0.4\n",
        "I,3000,300,PPPPL,0.3"
      ],
      "id": "174dd02d-4382-45b1-ba4c-d618be2c599c",
      "execution_count": null,
      "outputs": [
        {
          "output_type": "stream",
          "name": "stdout",
          "text": [
            "Writing tbl0.csv\n"
          ]
        }
      ]
    },
    {
      "cell_type": "code",
      "metadata": {
        "id": "d955f593-9f3b-4682-8943-20101dee6988",
        "colab": {
          "base_uri": "https://localhost:8080/"
        },
        "outputId": "6461e64a-3f9c-4e09-a0c7-001d023bde2b"
      },
      "source": [
        "%%writefile tbl1.csv\n",
        "E,1,273.08,600,2016-12-31,0.21,BDGD\n",
        "D,2,756.37,500,2019-02-28,0.37,BCCC\n",
        "E,3,305.43,100,2017-05-21,0.21,BAED\n",
        "D,4,662.69,800,2017-03-26,0.23,BGDD\n",
        "C,5,822.81,100,2017-11-17,0.35,GGFC\n",
        "A,6,391.42,300,2018-05-15,0.22,BFGB\n",
        "C,7,755.27,800,2018-07-04,0.47,GCDB\n",
        "E,8,302.86,700,2016-12-22,0.14,DFCC\n",
        "C,9,267.42,200,2018-04-18,0.10,DGCE\n",
        "A,10,816.51,600,2019-04-25,0.40,DAGC\n",
        "C,11,346.64,900,2017-04-18,0.15,FBBC\n",
        "B,12,999.72,800,2016-11-09,0.26,FCGD\n",
        "C,13,712.61,400,2017-10-23,0.31,EDDA\n",
        "E,14,832.44,800,2016-11-22,0.39,EGFD\n",
        "C,15,370.58,900,2016-10-01,0.11,GCDD\n",
        "B,16,283.40,600,2019-04-11,0.14,BDEE\n",
        "E,17,692.93,200,2018-03-25,0.25,BGGA\n",
        "A,18,142.99,100,2017-02-12,0.48,GGFD\n",
        "C,19,570.43,400,2019-04-12,0.48,FBEE\n",
        "A,20,938.16,300,2016-09-12,0.19,BECB\n",
        "B,21,409.34,400,2019-04-29,0.23,GFAE\n",
        "E,22,118.77,900,2016-10-29,0.32,GEFE\n",
        "E,23,325.15,200,2019-04-21,0.19,FBGC\n",
        "C,24,482.32,300,2019-05-03,0.11,CCCE\n",
        "E,25,600.90,700,2018-11-07,0.36,BBBA\n",
        "A,26,456.47,400,2018-01-28,0.11,FGED\n",
        "E,27,720.90,800,2017-01-16,0.12,FBGD\n",
        "B,28,326.45,700,2017-07-27,0.36,AGAA\n",
        "D,29,317.77,200,2017-02-27,0.47,GCEA\n",
        "A,30,135.80,900,2017-01-26,0.23,EGAB"
      ],
      "id": "d955f593-9f3b-4682-8943-20101dee6988",
      "execution_count": null,
      "outputs": [
        {
          "output_type": "stream",
          "name": "stdout",
          "text": [
            "Writing tbl1.csv\n"
          ]
        }
      ]
    },
    {
      "cell_type": "code",
      "metadata": {
        "id": "115dfb53-c782-4cb4-808a-4edae9c62c87",
        "colab": {
          "base_uri": "https://localhost:8080/"
        },
        "outputId": "e523c674-d929-4768-de21-3827856a3cd3"
      },
      "source": [
        "%%writefile tbl2.csv\n",
        "5,982.63,900,2018-04-13,0.25,VV-BV\n",
        "19,718.58,700,2018-04-12,0.12,VZ-MX\n",
        "15,850.49,700,2017-02-17,0.31,ZX-MV\n",
        "29,539.04,500,2019-01-23,0.30,MZ-CV\n",
        "6,354.74,600,2018-01-25,0.46,NX-CX\n",
        "29,218.17,900,2017-05-27,0.23,ZC-ZX\n",
        "20,362.54,300,2016-09-23,0.11,MN-XZ\n",
        "17,102.83,500,2017-03-01,0.23,XC-VZ\n",
        "1,478.54,100,2017-09-07,0.21,MC-CC\n",
        "19,526.10,600,2017-07-18,0.22,VM-VX\n",
        "17,291.64,400,2017-08-27,0.34,CM-NX\n",
        "7,622.19,900,2017-03-21,0.26,CB-BB\n",
        "9,790.70,700,2018-11-30,0.11,MZ-CV\n",
        "16,789.66,400,2018-02-07,0.13,BM-CV\n",
        "2,916.00,800,2018-07-19,0.10,VM-MX\n",
        "17,208.04,700,2018-05-15,0.25,MZ-VX\n",
        "8,146.04,500,2018-10-12,0.21,XM-ZB\n",
        "18,352.27,500,2017-01-28,0.37,VM-XX\n",
        "15,340.78,200,2019-02-06,0.34,MM-VB\n",
        "1,799.86,200,2016-10-23,0.17,MB-NZ\n",
        "4,445.87,500,2018-10-31,0.20,NZ-BX\n",
        "22,205.93,500,2016-12-08,0.10,VX-CX\n",
        "16,800.93,300,2017-03-16,0.15,XX-MC\n",
        "12,153.38,300,2017-03-17,0.19,BM-VX\n",
        "17,244.45,300,2018-02-01,0.16,CC-MZ\n",
        "10,823.34,200,2016-11-09,0.29,MM-MC\n",
        "17,958.74,400,2018-07-24,0.34,CN-NB\n",
        "28,658.78,700,2017-09-01,0.48,MM-BX\n",
        "4,696.30,100,2019-04-09,0.29,MM-BB\n",
        "26,518.08,800,2019-03-28,0.20,XZ-CB\n",
        "5,964.58,300,2018-10-20,0.28,XM-MC\n",
        "18,544.61,400,2016-08-20,0.35,BV-CX\n",
        "24,175.78,600,2018-02-14,0.27,MN-MC\n",
        "1,685.89,200,2019-03-06,0.18,BM-BZ\n",
        "11,187.88,800,2017-10-05,0.23,MX-XX\n",
        "5,380.95,600,2018-07-13,0.30,VV-VB\n",
        "21,519.30,600,2018-09-20,0.23,ZZ-VX\n",
        "21,253.23,600,2017-07-04,0.21,VC-NX\n",
        "23,558.78,600,2017-10-10,0.22,NM-MV\n",
        "5,406.02,500,2018-04-14,0.43,MV-NX\n",
        "7,446.69,600,2017-04-16,0.18,XZ-CC\n",
        "5,730.59,400,2018-06-05,0.23,MV-MX\n",
        "14,542.26,500,2016-11-05,0.47,MM-BX\n",
        "8,671.67,900,2019-04-15,0.22,XM-NX\n",
        "21,679.57,800,2018-01-13,0.42,CC-XX\n",
        "6,281.34,700,2018-01-22,0.39,CN-BC\n",
        "11,845.37,100,2018-04-05,0.31,CC-CB\n",
        "16,614.98,900,2017-11-08,0.13,MC-ZV\n",
        "21,713.19,800,2018-08-10,0.27,ZM-VV\n",
        "10,175.45,500,2018-03-29,0.26,CN-NZ\n",
        "26,147.56,800,2017-02-23,0.48,NV-BV\n",
        "14,989.84,900,2018-11-07,0.46,MX-MC\n",
        "2,853.23,500,2017-08-16,0.40,XM-CC\n",
        "20,734.40,400,2017-06-12,0.24,XC-ZC\n",
        "4,475.43,100,2017-08-18,0.44,CN-VX\n",
        "20,623.67,500,2017-12-23,0.41,BZ-BV\n",
        "29,265.52,700,2018-01-20,0.32,CC-MX\n",
        "7,224.90,400,2017-06-25,0.18,MN-CB\n",
        "18,586.28,800,2019-01-07,0.18,CB-XX\n",
        "22,364.87,300,2017-10-20,0.45,CC-MX\n",
        "7,822.01,700,2016-09-29,0.36,MB-BC\n",
        "26,830.71,300,2018-10-20,0.22,NN-NX\n",
        "5,260.74,400,2018-12-17,0.28,VN-ZC\n",
        "23,814.55,600,2018-02-15,0.16,MM-MZ\n",
        "25,563.26,900,2017-06-07,0.44,NC-XC\n",
        "10,960.97,500,2018-06-27,0.38,BM-ZC\n",
        "30,414.22,500,2018-09-24,0.28,XM-VV\n",
        "8,599.22,300,2017-08-19,0.29,MC-NX\n",
        "19,121.04,100,2018-08-07,0.48,MV-NZ\n",
        "25,982.24,300,2018-10-07,0.15,ZX-MC\n",
        "22,777.62,100,2018-06-22,0.42,CN-NB\n",
        "8,815.40,700,2018-09-26,0.47,ZM-CC\n",
        "16,812.77,900,2017-07-05,0.34,MM-ZV\n",
        "23,552.52,900,2018-06-09,0.34,MZ-MC\n",
        "8,179.19,900,2017-02-19,0.23,MN-XV\n",
        "27,557.86,900,2018-06-08,0.31,NV-NB\n",
        "20,918.93,200,2016-12-14,0.37,VV-BC\n",
        "22,513.40,900,2019-05-04,0.22,ZB-ZZ\n",
        "6,572.79,800,2017-01-23,0.19,ZN-ZC\n",
        "27,251.40,300,2019-04-28,0.14,NM-NC\n",
        "6,114.34,700,2018-10-13,0.41,XM-VB\n",
        "29,101.11,100,2017-11-17,0.42,MV-CB\n",
        "28,710.27,500,2017-01-05,0.32,XZ-MZ\n",
        "18,220.74,700,2016-09-08,0.20,NM-CZ\n",
        "20,985.46,400,2017-10-05,0.22,CV-BB\n",
        "27,467.18,500,2017-12-13,0.30,CX-MZ\n",
        "11,110.72,100,2018-05-03,0.45,BV-MV\n",
        "26,894.28,200,2019-03-23,0.49,MC-CB\n",
        "3,411.72,800,2017-06-04,0.17,MX-MV\n",
        "6,124.64,400,2016-09-20,0.14,MB-XB\n",
        "18,830.65,600,2017-01-29,0.37,CX-CX\n",
        "28,496.90,600,2019-03-29,0.28,CM-ZZ\n",
        "28,760.20,300,2018-09-25,0.11,XC-BC\n",
        "11,856.50,600,2017-04-06,0.14,NC-MX\n",
        "19,235.53,600,2018-08-07,0.45,ZX-BX\n",
        "8,761.31,800,2017-07-18,0.36,MC-XB\n",
        "17,395.67,400,2018-06-29,0.43,MX-VV\n",
        "4,541.40,900,2017-01-10,0.34,MZ-MB\n",
        "25,419.59,400,2018-07-20,0.15,VN-BZ\n",
        "4,658.00,300,2018-11-15,0.16,XZ-BZ\n",
        "4,658.67,900,2018-01-02,0.15,MZ-NZ\n",
        "18,371.46,800,2017-12-27,0.34,MC-MV\n",
        "28,356.30,400,2016-12-07,0.12,MN-BB\n",
        "6,382.60,300,2019-03-21,0.20,BM-XB\n",
        "16,915.72,900,2018-07-04,0.25,NZ-MV\n",
        "12,197.55,200,2017-04-22,0.27,MX-MC\n",
        "24,865.20,400,2017-03-22,0.44,NZ-VZ\n",
        "22,157.88,200,2017-11-07,0.12,CM-ZZ\n",
        "23,259.23,100,2019-01-05,0.45,VM-CX\n",
        "24,239.61,600,2017-01-12,0.34,BZ-ZX\n",
        "1,407.80,800,2018-07-10,0.15,ZZ-MC\n",
        "9,531.02,500,2016-10-25,0.27,CV-ZZ\n",
        "13,777.73,200,2016-09-10,0.26,ZZ-BV\n",
        "8,490.07,400,2018-06-15,0.11,MV-CX\n",
        "23,878.13,800,2019-01-24,0.25,XZ-MV\n",
        "13,872.76,200,2016-09-16,0.36,BB-CB\n",
        "27,998.03,600,2017-07-27,0.35,VM-XZ\n",
        "22,612.05,600,2018-11-30,0.22,VV-MB\n",
        "24,903.38,900,2017-11-10,0.45,MV-XX\n",
        "28,213.67,600,2018-10-06,0.38,XM-MC"
      ],
      "id": "115dfb53-c782-4cb4-808a-4edae9c62c87",
      "execution_count": null,
      "outputs": [
        {
          "output_type": "stream",
          "name": "stdout",
          "text": [
            "Writing tbl2.csv\n"
          ]
        }
      ]
    },
    {
      "cell_type": "markdown",
      "metadata": {
        "id": "ab655f49-feeb-402a-a0a0-117d0cf1d97d"
      },
      "source": [
        "Magic Cells\n",
        "----"
      ],
      "id": "ab655f49-feeb-402a-a0a0-117d0cf1d97d"
    },
    {
      "cell_type": "code",
      "metadata": {
        "id": "39b0926d-23d0-47f8-958f-6a44ac9a6242"
      },
      "source": [
        "import sqlite3\n",
        "from IPython.core.magic import register_cell_magic, register_line_magic\n",
        "\n",
        "\n",
        "conn = sqlite3.connect(\":memory:\")\n",
        "cur = conn.cursor()\n",
        "\n",
        "@register_cell_magic\n",
        "def sqlite3(line, cell):\n",
        "    cell = [\n",
        "        l for l in cell.split(\"\\n\") if l[0:2] != \"--\" and l[0:2] not in [\"--\", \"##\"]\n",
        "    ]\n",
        "    cell = \"\\n\".join(cell)\n",
        "    return cur.execute(cell).fetchall()\n",
        "\n",
        "\n",
        "@register_cell_magic\n",
        "def sqlite3script(line, cell):\n",
        "    cell = [l for l in cell.split(\"\\n\") if len(l) >= 2 and l[0:2] not in [\"--\", \"##\"]]\n",
        "    cell = \"\\n\".join(cell)\n",
        "    conn.executescript(cell)\n",
        "    conn.commit()\n",
        "\n",
        "\n",
        "@register_line_magic\n",
        "def sql(line):\n",
        "    line = [\n",
        "        l for l in line.split(\"\\n\") if l[0:2] != \"--\" and l[0:2] not in [\"--\", \"##\"]\n",
        "    ]\n",
        "    line = \"\\n\".join(line)\n",
        "    return cur.execute(line).fetchall()"
      ],
      "id": "39b0926d-23d0-47f8-958f-6a44ac9a6242",
      "execution_count": null,
      "outputs": []
    },
    {
      "cell_type": "markdown",
      "metadata": {
        "id": "09f15ee7-1b0f-4ebd-ba49-b981e6f20715"
      },
      "source": [
        "Estructura de las tablas\n",
        "---"
      ],
      "id": "09f15ee7-1b0f-4ebd-ba49-b981e6f20715"
    },
    {
      "cell_type": "markdown",
      "metadata": {
        "id": "1f90c418-c9b1-443c-864c-3d195a03b12b"
      },
      "source": [
        "La estructura de las tablas es la siguiente:\n",
        " \n",
        "```\n",
        "data\n",
        "------------------------\n",
        "  K0  CHAR(1)\n",
        "  K1  INT\n",
        "  c12 FLOAT\n",
        "  c13 INT\n",
        "  c14 DATE\n",
        "  c15 FLOAT\n",
        "  c16 CHAR(4)\n",
        "  \n",
        "tbl0\n",
        "------------------------\n",
        "  K0  CHAR(1)\n",
        "  c01 INT\n",
        "  c02 INT\n",
        "  c03 CHAR(4)\n",
        "  c04 FLOAT\n",
        "\n",
        "tbl1\n",
        "------------------------\n",
        "  K0  CHAR(1)\n",
        "  K1  INT\n",
        "  c12 FLOAT\n",
        "  c13 INT\n",
        "  c14 DATE\n",
        "  c15 FLOAT\n",
        "  c16 CHAR(4)\n",
        "\n",
        "tbl2\n",
        "------------------------\n",
        "  K1  INT,\n",
        "  c21 FLOAT,\n",
        "  c22 INT,\n",
        "  c23 DATE,\n",
        "  c24 FLOAT,\n",
        "  c25 CHAR(5)  \n",
        "```"
      ],
      "id": "1f90c418-c9b1-443c-864c-3d195a03b12b"
    },
    {
      "cell_type": "markdown",
      "metadata": {
        "id": "g-TWoZD8sfq1"
      },
      "source": [
        "Preparacion\n"
      ],
      "id": "g-TWoZD8sfq1"
    },
    {
      "cell_type": "code",
      "metadata": {
        "id": "V5n59GbjsYQD"
      },
      "source": [
        "import pandas as pd"
      ],
      "id": "V5n59GbjsYQD",
      "execution_count": null,
      "outputs": []
    },
    {
      "cell_type": "code",
      "metadata": {
        "id": "gK-KNpkEsLyd"
      },
      "source": [
        "# Apertura de Conexion\n",
        "import sqlite3\n",
        "\n",
        "conn = sqlite3.connect(\":memory:\") \n",
        "cur = conn.cursor()"
      ],
      "id": "gK-KNpkEsLyd",
      "execution_count": null,
      "outputs": []
    },
    {
      "cell_type": "code",
      "metadata": {
        "id": "O9fj8-wNsjgT"
      },
      "source": [
        "%%sqlite3script\n",
        "\n",
        "DROP TABLE IF EXISTS data;\n",
        "\n",
        "CREATE TABLE data (\n",
        "    K0  CHAR(1),\n",
        "    K1  INT,\n",
        "    c12 FLOAT,\n",
        "    c13 INT,\n",
        "    c14 DATE,\n",
        "    c15 FLOAT,\n",
        "    c16 CHAR(4)\n",
        ");\n",
        "\n",
        "DROP TABLE IF EXISTS tbl0;\n",
        "\n",
        "CREATE TABLE tbl0 (\n",
        "    K0  CHAR(1),\n",
        "    c01 INT,\n",
        "    c02 INT,\n",
        "    c03 CHAR(4),\n",
        "    c04 FLOAT\n",
        ");\n",
        "\n",
        "DROP TABLE IF EXISTS tbl1;\n",
        "\n",
        "CREATE TABLE tbl1 (\n",
        "    K0  CHAR(1),\n",
        "    K1  INT,\n",
        "    c12 FLOAT,\n",
        "    c13 INT,\n",
        "    c14 DATE,\n",
        "    c15 FLOAT,\n",
        "    c16 CHAR(4)\n",
        ");\n",
        "\n",
        "DROP TABLE IF EXISTS tbl2;\n",
        "\n",
        "CREATE TABLE tbl2 (\n",
        "    K1  INT,\n",
        "    c21 FLOAT,\n",
        "    c22 INT,\n",
        "    c23 DATE,\n",
        "    c24 FLOAT,\n",
        "    c25 CHAR(5)\n",
        ");"
      ],
      "id": "O9fj8-wNsjgT",
      "execution_count": null,
      "outputs": []
    },
    {
      "cell_type": "code",
      "metadata": {
        "colab": {
          "base_uri": "https://localhost:8080/"
        },
        "id": "3w6ENvVbstBM",
        "outputId": "616c09d2-d270-42c8-f704-2fdb0898c236"
      },
      "source": [
        "# Validacion de la creacion de las tablas\n",
        "cur.execute(\"SELECT name FROM sqlite_master WHERE type='table';\").fetchall()"
      ],
      "id": "3w6ENvVbstBM",
      "execution_count": null,
      "outputs": [
        {
          "output_type": "execute_result",
          "data": {
            "text/plain": [
              "[('data',), ('tbl0',), ('tbl1',), ('tbl2',)]"
            ]
          },
          "metadata": {},
          "execution_count": 10
        }
      ]
    },
    {
      "cell_type": "code",
      "metadata": {
        "colab": {
          "base_uri": "https://localhost:8080/"
        },
        "id": "C54ZWcUDts6G",
        "outputId": "f0dd3138-235f-4f3e-dd81-79b73dae0155"
      },
      "source": [
        "# Lectura de tabla data\n",
        "with open(\"data.csv\", \"rt\") as f:\n",
        "    data = f.readlines()\n",
        "\n",
        "# Elimina el '\\n' al final de la línea\n",
        "data = [line.replace('\\n', '')  for line in data]\n",
        "\n",
        "# Separa los campos por comas\n",
        "data = [line.split(\",\") for line in data]\n",
        "\n",
        "# Convierte la fila en una tupla\n",
        "data = [tuple(line) for line in data]\n",
        "\n",
        "#Cargando los datos desde la tabla\n",
        "cur.executemany(\"INSERT INTO data VALUES (?,?,?,?,?,?,?)\", data)\n",
        "\n",
        "#\n",
        "# Verificación\n",
        "#\n",
        "cur.execute(\"SELECT * FROM data LIMIT 1;\").fetchall()"
      ],
      "id": "C54ZWcUDts6G",
      "execution_count": null,
      "outputs": [
        {
          "output_type": "execute_result",
          "data": {
            "text/plain": [
              "[('E', 1, 273.08, 600, '2016-12-31', 0.21, 'BDGD')]"
            ]
          },
          "metadata": {},
          "execution_count": 11
        }
      ]
    },
    {
      "cell_type": "code",
      "metadata": {
        "colab": {
          "base_uri": "https://localhost:8080/"
        },
        "id": "PiCEYDbovYUm",
        "outputId": "ebda77a3-49d7-4fd6-bf7f-d398ba5d79e4"
      },
      "source": [
        "# Lectura de tabla data\n",
        "with open(\"tbl0.csv\", \"rt\") as f:\n",
        "    data = f.readlines()\n",
        "\n",
        "# Elimina el '\\n' al final de la línea\n",
        "data = [line.replace('\\n', '')  for line in data]\n",
        "\n",
        "# Separa los campos por comas\n",
        "data = [line.split(\",\") for line in data]\n",
        "\n",
        "# Convierte la fila en una tupla\n",
        "data = [tuple(line) for line in data]\n",
        "\n",
        "#Cargando los datos desde la tabla\n",
        "cur.executemany(\"INSERT INTO tbl0 VALUES (?,?,?,?,?)\", data)\n",
        "\n",
        "#\n",
        "# Verificación\n",
        "#\n",
        "cur.execute(\"SELECT * FROM tbl0 LIMIT 1;\").fetchall()"
      ],
      "id": "PiCEYDbovYUm",
      "execution_count": null,
      "outputs": [
        {
          "output_type": "execute_result",
          "data": {
            "text/plain": [
              "[('A', 5000, 900, 'NMNJL', 0.4)]"
            ]
          },
          "metadata": {},
          "execution_count": 12
        }
      ]
    },
    {
      "cell_type": "code",
      "metadata": {
        "colab": {
          "base_uri": "https://localhost:8080/"
        },
        "id": "dbU0nu4NvkMI",
        "outputId": "8a50493c-bd35-467b-b186-c07403298155"
      },
      "source": [
        "# Lectura de tabla tabl1\n",
        "with open(\"tbl1.csv\", \"rt\") as f:\n",
        "    data = f.readlines()\n",
        "\n",
        "# Elimina el '\\n' al final de la línea\n",
        "data = [line.replace('\\n', '')  for line in data]\n",
        "\n",
        "# Separa los campos por comas\n",
        "data = [line.split(\",\") for line in data]\n",
        "\n",
        "# Convierte la fila en una tupla\n",
        "data = [tuple(line) for line in data]\n",
        "\n",
        "#Cargando los datos desde la tabla\n",
        "cur.executemany(\"INSERT INTO tbl1 VALUES (?,?,?,?,?,?,?)\", data)\n",
        "\n",
        "#\n",
        "# Verificación\n",
        "#\n",
        "cur.execute(\"SELECT * FROM tbl1 LIMIT 1;\").fetchall()"
      ],
      "id": "dbU0nu4NvkMI",
      "execution_count": null,
      "outputs": [
        {
          "output_type": "execute_result",
          "data": {
            "text/plain": [
              "[('E', 1, 273.08, 600, '2016-12-31', 0.21, 'BDGD')]"
            ]
          },
          "metadata": {},
          "execution_count": 13
        }
      ]
    },
    {
      "cell_type": "code",
      "metadata": {
        "colab": {
          "base_uri": "https://localhost:8080/"
        },
        "id": "UqGrcJnXvrUY",
        "outputId": "1013bc78-9d4d-4e1c-b40c-8926ac23e25d"
      },
      "source": [
        "# Lectura de tabla tbl12\n",
        "with open(\"tbl2.csv\", \"rt\") as f:\n",
        "    data = f.readlines()\n",
        "\n",
        "# Elimina el '\\n' al final de la línea\n",
        "data = [line.replace('\\n', '')  for line in data]\n",
        "\n",
        "# Separa los campos por comas\n",
        "data = [line.split(\",\") for line in data]\n",
        "\n",
        "# Convierte la fila en una tupla\n",
        "data = [tuple(line) for line in data]\n",
        "\n",
        "cur.executemany(\"INSERT INTO tbl2 VALUES (?,?,?,?,?,?)\", data)\n",
        "\n",
        "#\n",
        "# Verificación\n",
        "#\n",
        "cur.execute(\"SELECT * FROM tbl2 LIMIT 1;\").fetchall()"
      ],
      "id": "UqGrcJnXvrUY",
      "execution_count": null,
      "outputs": [
        {
          "output_type": "execute_result",
          "data": {
            "text/plain": [
              "[(5, 982.63, 900, '2018-04-13', 0.25, 'VV-BV')]"
            ]
          },
          "metadata": {},
          "execution_count": 14
        }
      ]
    },
    {
      "cell_type": "markdown",
      "metadata": {
        "id": "2de6d69c-d868-4b29-953e-69a83303e4d5"
      },
      "source": [
        "Ejercicio 1\n",
        "---"
      ],
      "id": "2de6d69c-d868-4b29-953e-69a83303e4d5"
    },
    {
      "cell_type": "code",
      "metadata": {
        "id": "948901d0-fa6a-45d4-b393-c60cc2613579",
        "colab": {
          "base_uri": "https://localhost:8080/"
        },
        "outputId": "d8fa5bdb-4fba-462f-82d8-dcc296c32a55"
      },
      "source": [
        "#%%sqlite3\n",
        "#\n",
        "# Escriba una consulta en SQL que devuelva la suma del campo c12.\n",
        "#\n",
        "# Rta/\n",
        "#    SUM(c12)\n",
        "# 0  15137.63\n",
        "#\n",
        "tmp = %sql Select sum(c12) from tbl1\n",
        "rta01 = pd.DataFrame (tmp, columns = ['SUM(c12)'])\n",
        "print(rta01)\n"
      ],
      "id": "948901d0-fa6a-45d4-b393-c60cc2613579",
      "execution_count": null,
      "outputs": [
        {
          "output_type": "stream",
          "name": "stdout",
          "text": [
            "   SUM(c12)\n",
            "0  15137.63\n"
          ]
        }
      ]
    },
    {
      "cell_type": "markdown",
      "metadata": {
        "id": "a835d147-77a0-41ef-bfa2-124336ed78c3"
      },
      "source": [
        "Ejercicio 2\n",
        "---"
      ],
      "id": "a835d147-77a0-41ef-bfa2-124336ed78c3"
    },
    {
      "cell_type": "code",
      "metadata": {
        "id": "98c1ba12-6c98-49bb-bcd6-fc20d2921bb6",
        "colab": {
          "base_uri": "https://localhost:8080/"
        },
        "outputId": "cf20a5c3-66a1-4119-afd4-6ecc97f9254b"
      },
      "source": [
        "#%%sqlite3\n",
        "#\n",
        "# Escriba una consulta que retorne la cantidad de registros\n",
        "# de la tabla `data`.\n",
        "#\n",
        "# Rta/\n",
        "#    COUNT(*)\n",
        "# 0        30\n",
        "tmp = %sql Select count (*) from data\n",
        "rta02 = pd.DataFrame (tmp, columns = ['COUNT(*)'])\n",
        "print(rta02)"
      ],
      "id": "98c1ba12-6c98-49bb-bcd6-fc20d2921bb6",
      "execution_count": null,
      "outputs": [
        {
          "output_type": "stream",
          "name": "stdout",
          "text": [
            "   COUNT(*)\n",
            "0        30\n"
          ]
        }
      ]
    },
    {
      "cell_type": "markdown",
      "metadata": {
        "id": "e061acf6-76f3-4a8b-a3a1-e0953eeabac1"
      },
      "source": [
        "Ejercicio 3\n",
        "---"
      ],
      "id": "e061acf6-76f3-4a8b-a3a1-e0953eeabac1"
    },
    {
      "cell_type": "code",
      "metadata": {
        "id": "7e42bb96-9078-423e-b7b2-e95339c25906",
        "colab": {
          "base_uri": "https://localhost:8080/"
        },
        "outputId": "65afa92d-1c2d-4a4d-dca1-4c579e8b2ab0"
      },
      "source": [
        "#%%sqlite3\n",
        "#\n",
        "# Escriba una consulta que retorne los primeros cinco\n",
        "# registros de la tabla `data` ordenados por fecha.\n",
        "#\n",
        "# Rta/\n",
        "#   K0  K1     c12  c13         c14   c15   c16\n",
        "# 0  A  20  938.16  300  2016-09-12  0.19  BECB\n",
        "# 1  C  15  370.58  900  2016-10-01  0.11  GCDD\n",
        "# 2  E  22  118.77  900  2016-10-29  0.32  GEFE\n",
        "# 3  B  12  999.72  800  2016-11-09  0.26  FCGD\n",
        "# 4  E  14  832.44  800  2016-11-22  0.39  EGFD\n",
        "#\n",
        "tmp = %sql Select * from data order by c14 LIMIT 5;\n",
        "rt03=pd.DataFrame (tmp, columns = ['K0','K1','c12','c13','c14','c15','c16'])\n",
        "print(rt03)"
      ],
      "id": "7e42bb96-9078-423e-b7b2-e95339c25906",
      "execution_count": null,
      "outputs": [
        {
          "output_type": "stream",
          "name": "stdout",
          "text": [
            "  K0  K1     c12  c13         c14   c15   c16\n",
            "0  A  20  938.16  300  2016-09-12  0.19  BECB\n",
            "1  C  15  370.58  900  2016-10-01  0.11  GCDD\n",
            "2  E  22  118.77  900  2016-10-29  0.32  GEFE\n",
            "3  B  12  999.72  800  2016-11-09  0.26  FCGD\n",
            "4  E  14  832.44  800  2016-11-22  0.39  EGFD\n"
          ]
        }
      ]
    },
    {
      "cell_type": "markdown",
      "metadata": {
        "id": "aae4afe9-c27a-49b3-969f-cecff492a876"
      },
      "source": [
        "Ejercicio 4\n",
        "---"
      ],
      "id": "aae4afe9-c27a-49b3-969f-cecff492a876"
    },
    {
      "cell_type": "code",
      "metadata": {
        "id": "d433712d-347e-4e1b-8d52-4c36ecb41e04",
        "colab": {
          "base_uri": "https://localhost:8080/"
        },
        "outputId": "167da383-8a2b-43ae-f73e-7fba030efe15"
      },
      "source": [
        "#%%sqlite3\n",
        "#\n",
        "# Escriba una consulta que retorne los campos K0 y c16\n",
        "# para los registros de la tabla tbl1 para los que la \n",
        "# columna c16 empieza por la misma letra de la columna K0.\n",
        "#\n",
        "# Rta/\n",
        "#   K0   c16\n",
        "# 0  E  EGFD\n",
        "# 1  B  BDEE\n",
        "# 2  C  CCCE\n",
        "#\n",
        "tmp = %sql Select  K0, c16 FROM tbl1 WHERE SUBSTR(C16,1,1)=K0\n",
        "rt04=pd.DataFrame (tmp, columns = ['K0','c16'])\n",
        "print(rt04)"
      ],
      "id": "d433712d-347e-4e1b-8d52-4c36ecb41e04",
      "execution_count": null,
      "outputs": [
        {
          "output_type": "stream",
          "name": "stdout",
          "text": [
            "  K0   c16\n",
            "0  E  EGFD\n",
            "1  B  BDEE\n",
            "2  C  CCCE\n"
          ]
        }
      ]
    },
    {
      "cell_type": "markdown",
      "metadata": {
        "id": "5eb30f9f-bcd1-4f9a-9562-c242bab5e295"
      },
      "source": [
        "Ejercicio 5\n",
        "---"
      ],
      "id": "5eb30f9f-bcd1-4f9a-9562-c242bab5e295"
    },
    {
      "cell_type": "code",
      "metadata": {
        "id": "faf1411f-2349-40ab-8475-1ed7dd97633e",
        "colab": {
          "base_uri": "https://localhost:8080/"
        },
        "outputId": "2feab8d4-23f9-4d28-fa98-3dda03429f7d"
      },
      "source": [
        "#%%sqlite3\n",
        "#\n",
        "# Escriba una consulta que retorne todos los campos de \n",
        "# la tabla tbl0 para los que el campo c02 es igual a 100\n",
        "# o igual a 600\n",
        "#\n",
        "# Rta/\n",
        "#   K0   c01  c02    c03  c04\n",
        "# 0  B  7000  100  OLPKN  0.2\n",
        "# 1  C  1000  600  LMMML  0.2\n",
        "# 2  D  4000  600  PJLJL  0.4\n",
        "# 3  G  5000  100  NLPLO  0.2\n",
        "#\n",
        "tmp = %sql Select * FROM tbl0 WHERE c02=100 or c02=600\n",
        "rt05=pd.DataFrame (tmp, columns = ['K0','c01','c02','c03','c04'])\n",
        "print(rt05)"
      ],
      "id": "faf1411f-2349-40ab-8475-1ed7dd97633e",
      "execution_count": null,
      "outputs": [
        {
          "output_type": "stream",
          "name": "stdout",
          "text": [
            "  K0   c01  c02    c03  c04\n",
            "0  B  7000  100  OLPKN  0.2\n",
            "1  C  1000  600  LMMML  0.2\n",
            "2  D  4000  600  PJLJL  0.4\n",
            "3  G  5000  100  NLPLO  0.2\n"
          ]
        }
      ]
    },
    {
      "cell_type": "markdown",
      "metadata": {
        "id": "31fea5c3-1a47-4f12-9fbc-ce43d4dcecc9"
      },
      "source": [
        "Ejercicio 6\n",
        "---"
      ],
      "id": "31fea5c3-1a47-4f12-9fbc-ce43d4dcecc9"
    },
    {
      "cell_type": "code",
      "metadata": {
        "id": "377d8b85-0a33-4317-b6bf-518c675a8dd4",
        "colab": {
          "base_uri": "https://localhost:8080/"
        },
        "outputId": "e83afc2d-88f3-4bd6-aca1-5eb5fd4fb268"
      },
      "source": [
        "#%%sqlite3\n",
        "#\n",
        "# Escriba una consulta que retorne todos los campos de \n",
        "# la tabla tbl1 ordenada por fecha (c14) para los \n",
        "# registros con K0 igual a A\n",
        "#\n",
        "# Rta/\n",
        "#   K0  K1     c12  c13         c14   c15   c16\n",
        "# 0  A  20  938.16  300  2016-09-12  0.19  BECB\n",
        "# 1  A  30  135.80  900  2017-01-26  0.23  EGAB\n",
        "# 2  A  18  142.99  100  2017-02-12  0.48  GGFD\n",
        "# 3  A  26  456.47  400  2018-01-28  0.11  FGED\n",
        "# 4  A   6  391.42  300  2018-05-15  0.22  BFGB\n",
        "# 5  A  10  816.51  600  2019-04-25  0.40  DAGC\n",
        "#\n",
        "tmp = %sql Select * FROM tbl1 WHERE K0='A'ORDER BY c14\n",
        "rt06=pd.DataFrame (tmp, columns = ['K0','K1','c12','c13','c14','c15','c16'])\n",
        "print(rt06)"
      ],
      "id": "377d8b85-0a33-4317-b6bf-518c675a8dd4",
      "execution_count": null,
      "outputs": [
        {
          "output_type": "stream",
          "name": "stdout",
          "text": [
            "  K0  K1     c12  c13         c14   c15   c16\n",
            "0  A  20  938.16  300  2016-09-12  0.19  BECB\n",
            "1  A  30  135.80  900  2017-01-26  0.23  EGAB\n",
            "2  A  18  142.99  100  2017-02-12  0.48  GGFD\n",
            "3  A  26  456.47  400  2018-01-28  0.11  FGED\n",
            "4  A   6  391.42  300  2018-05-15  0.22  BFGB\n",
            "5  A  10  816.51  600  2019-04-25  0.40  DAGC\n"
          ]
        }
      ]
    },
    {
      "cell_type": "markdown",
      "metadata": {
        "id": "bedd9164-f2ca-4485-b493-f0cf7721af24"
      },
      "source": [
        "Ejercicio 7\n",
        "---"
      ],
      "id": "bedd9164-f2ca-4485-b493-f0cf7721af24"
    },
    {
      "cell_type": "code",
      "metadata": {
        "id": "28f69976-cb70-4608-b80e-79b080556fdc",
        "colab": {
          "base_uri": "https://localhost:8080/"
        },
        "outputId": "d9008dd2-4051-4452-ca0f-273785d2a530"
      },
      "source": [
        "#%%sqlite3\n",
        "#\n",
        "# Escriba una consulta que retorne todos los campos de \n",
        "# la tabla tbl1 ordenada por fecha (c14) para los \n",
        "# registros con K0 diferente a A y B y c13 diferente \n",
        "# de 200 y 900\n",
        "#\n",
        "# Rta/\n",
        "#    K0  K1     c12  c13         c14   c15   c16\n",
        "# 0   E  14  832.44  800  2016-11-22  0.39  EGFD\n",
        "# 1   E   8  302.86  700  2016-12-22  0.14  DFCC\n",
        "# 2   E   1  273.08  600  2016-12-31  0.21  BDGD\n",
        "# 3   E  27  720.90  800  2017-01-16  0.12  FBGD\n",
        "# 4   D   4  662.69  800  2017-03-26  0.23  BGDD\n",
        "# 5   E   3  305.43  100  2017-05-21  0.21  BAED\n",
        "# 6   C  13  712.61  400  2017-10-23  0.31  EDDA\n",
        "# 7   C   5  822.81  100  2017-11-17  0.35  GGFC\n",
        "# 8   C   7  755.27  800  2018-07-04  0.47  GCDB\n",
        "# 9   E  25  600.90  700  2018-11-07  0.36  BBBA\n",
        "# 10  D   2  756.37  500  2019-02-28  0.37  BCCC\n",
        "# 11  C  19  570.43  400  2019-04-12  0.48  FBEE\n",
        "# 12  C  24  482.32  300  2019-05-03  0.11  CCCE\n",
        "\n",
        "tmp = %sql Select * from tbl1 where K0 not in ('A','B') and c13 not in('200','900') order by c14\n",
        "rta07 = pd.DataFrame (tmp, columns = ['K0','K1','c12','c13','c14','c15','c16']) \n",
        "print(rta07)\n"
      ],
      "id": "28f69976-cb70-4608-b80e-79b080556fdc",
      "execution_count": null,
      "outputs": [
        {
          "output_type": "stream",
          "name": "stdout",
          "text": [
            "   K0  K1     c12  c13         c14   c15   c16\n",
            "0   E  14  832.44  800  2016-11-22  0.39  EGFD\n",
            "1   E   8  302.86  700  2016-12-22  0.14  DFCC\n",
            "2   E   1  273.08  600  2016-12-31  0.21  BDGD\n",
            "3   E  27  720.90  800  2017-01-16  0.12  FBGD\n",
            "4   D   4  662.69  800  2017-03-26  0.23  BGDD\n",
            "5   E   3  305.43  100  2017-05-21  0.21  BAED\n",
            "6   C  13  712.61  400  2017-10-23  0.31  EDDA\n",
            "7   C   5  822.81  100  2017-11-17  0.35  GGFC\n",
            "8   C   7  755.27  800  2018-07-04  0.47  GCDB\n",
            "9   E  25  600.90  700  2018-11-07  0.36  BBBA\n",
            "10  D   2  756.37  500  2019-02-28  0.37  BCCC\n",
            "11  C  19  570.43  400  2019-04-12  0.48  FBEE\n",
            "12  C  24  482.32  300  2019-05-03  0.11  CCCE\n"
          ]
        }
      ]
    },
    {
      "cell_type": "markdown",
      "metadata": {
        "id": "e091f8e0-1c56-487e-ac13-f50422882585"
      },
      "source": [
        "Ejercicio 8\n",
        "---"
      ],
      "id": "e091f8e0-1c56-487e-ac13-f50422882585"
    },
    {
      "cell_type": "code",
      "metadata": {
        "id": "dfe2e64e-f523-4fbe-abad-652beb38399e",
        "colab": {
          "base_uri": "https://localhost:8080/"
        },
        "outputId": "7e89b213-3584-4ac0-eb73-aa3ac50bf207"
      },
      "source": [
        "#%%sqlite3\n",
        "#\n",
        "# Escriba una consulta que compute el promedio\n",
        "# de la columna c21 de la tabla tbl2 por ano \n",
        "# (columna c23).\n",
        "#\n",
        "# Rta/\n",
        "#    YEAR    avg(c21)\n",
        "# 0  2016  564.476429\n",
        "# 1  2017  515.156364\n",
        "# 2  2018  557.559375\n",
        "# 3  2019  550.998571\n",
        "#\n",
        "tmp = %sql Select strftime('%Y',c23), AVG(c21) from tbl2 GROUP BY strftime('%Y',c23)\n",
        "rta08 = pd.DataFrame (tmp, columns = ['YEAR','avg(c21)']) \n",
        "print(rta08)"
      ],
      "id": "dfe2e64e-f523-4fbe-abad-652beb38399e",
      "execution_count": null,
      "outputs": [
        {
          "output_type": "stream",
          "name": "stdout",
          "text": [
            "   YEAR    avg(c21)\n",
            "0  2016  564.476429\n",
            "1  2017  515.156364\n",
            "2  2018  557.559375\n",
            "3  2019  550.998571\n"
          ]
        }
      ]
    },
    {
      "cell_type": "markdown",
      "metadata": {
        "id": "2e5ae8fd-b0e3-42c7-be62-03c25b757eb3"
      },
      "source": [
        "Ejercicio 9\n",
        "---"
      ],
      "id": "2e5ae8fd-b0e3-42c7-be62-03c25b757eb3"
    },
    {
      "cell_type": "code",
      "metadata": {
        "id": "d74be1b0-5de6-4153-9e34-615e9a0bc4c0",
        "colab": {
          "base_uri": "https://localhost:8080/"
        },
        "outputId": "431f52dd-1dcf-4de4-f080-267ef0f4b1ef"
      },
      "source": [
        "#%%sqlite3\n",
        "#\n",
        "# Escriba una consulta que retorne el registro\n",
        "# con el menor valor en la columna c21 de la \n",
        "# tabla tbl2.\n",
        "#\n",
        "# Rta/\n",
        "#    K1     c21  c22         c23   c24    c25\n",
        "# 0  29  101.11  100  2017-11-17  0.42  MV-CB\n",
        "#\n",
        "tmp = %sql Select * from tbl2 ORDER BY c21 LIMIT 1;\n",
        "rta09 = pd.DataFrame (tmp, columns = ['K1','c21','c22','c23','c24','c25']) \n",
        "print(rta09)"
      ],
      "id": "d74be1b0-5de6-4153-9e34-615e9a0bc4c0",
      "execution_count": null,
      "outputs": [
        {
          "output_type": "stream",
          "name": "stdout",
          "text": [
            "   K1     c21  c22         c23   c24    c25\n",
            "0  29  101.11  100  2017-11-17  0.42  MV-CB\n"
          ]
        }
      ]
    },
    {
      "cell_type": "markdown",
      "metadata": {
        "id": "674fdb32-07c9-433c-87cf-1d41a90e5702"
      },
      "source": [
        "Ejercicio 10\n",
        "---"
      ],
      "id": "674fdb32-07c9-433c-87cf-1d41a90e5702"
    },
    {
      "cell_type": "code",
      "metadata": {
        "id": "34e1c90a-b507-4dc6-a1d2-fca7f9015f83",
        "colab": {
          "base_uri": "https://localhost:8080/"
        },
        "outputId": "b91bdba6-4a7f-44e2-f097-36a93c576965"
      },
      "source": [
        "#%%sqlite3\n",
        "#\n",
        "# Escriba una consulta que retorne todos los \n",
        "# campos de los registros de la tabla tbl0 \n",
        "# con la columna c02 mayor o igual a 300.\n",
        "#\n",
        "# Rta/\n",
        "#    K0   c01  c02    c03  c04\n",
        "# 0   A  5000  900  NMNJL  0.4\n",
        "# 1   C  1000  600  LMMML  0.2\n",
        "# 2   D  4000  600  PJLJL  0.4\n",
        "# 3   F  2000  300  NNPJO  0.3\n",
        "# 4   I  3000  300  PPPPL  0.3\n",
        "#\n",
        "tmp = %sql Select * from tbl0 WHERE c02>=300\n",
        "rta10 = pd.DataFrame (tmp, columns = ['K0','c01','c02','c03','c04']) \n",
        "print(rta10)"
      ],
      "id": "34e1c90a-b507-4dc6-a1d2-fca7f9015f83",
      "execution_count": null,
      "outputs": [
        {
          "output_type": "stream",
          "name": "stdout",
          "text": [
            "  K0   c01  c02    c03  c04\n",
            "0  A  5000  900  NMNJL  0.4\n",
            "1  C  1000  600  LMMML  0.2\n",
            "2  D  4000  600  PJLJL  0.4\n",
            "3  F  2000  300  NNPJO  0.3\n",
            "4  I  3000  300  PPPPL  0.3\n"
          ]
        }
      ]
    },
    {
      "cell_type": "markdown",
      "metadata": {
        "id": "11db01b1-35f8-4338-8184-7973b04fef93"
      },
      "source": [
        "Ejercicio 11\n",
        "---"
      ],
      "id": "11db01b1-35f8-4338-8184-7973b04fef93"
    },
    {
      "cell_type": "code",
      "metadata": {
        "id": "09d6c1d9-c807-4763-9554-7f18a262fbd8",
        "colab": {
          "base_uri": "https://localhost:8080/"
        },
        "outputId": "85193980-029c-4909-a8da-21423ba6a22b"
      },
      "source": [
        "#%%sqlite3\n",
        "#\n",
        "# Escriba una consulta que retorne el total \n",
        "# de registros de la tabla tbl1 para el ano\n",
        "# 2018\n",
        "#\n",
        "# Rta/\n",
        "#    YEAR  CANT\n",
        "# 0  2018     6\n",
        "#\n",
        "tmp = %sql Select strftime('%Y',c14),COUNT(c14) from tbl1 WHERE strftime('%Y',c14)='2018' GROUP BY strftime('%Y',c14) \n",
        "rta11 = pd.DataFrame (tmp, columns = ['YEAR','CANT']) \n",
        "print(rta11)"
      ],
      "id": "09d6c1d9-c807-4763-9554-7f18a262fbd8",
      "execution_count": null,
      "outputs": [
        {
          "output_type": "stream",
          "name": "stdout",
          "text": [
            "   YEAR  CANT\n",
            "0  2018     6\n"
          ]
        }
      ]
    },
    {
      "cell_type": "markdown",
      "metadata": {
        "id": "015fc930-eb6a-4948-9087-a8dea8980a41"
      },
      "source": [
        "Ejercicio 12\n",
        "---"
      ],
      "id": "015fc930-eb6a-4948-9087-a8dea8980a41"
    },
    {
      "cell_type": "code",
      "metadata": {
        "id": "b27775bc-3cb6-4ea8-914e-cb7de38c88a2",
        "colab": {
          "base_uri": "https://localhost:8080/"
        },
        "outputId": "abbeee55-8984-456b-c46f-7377e6768860"
      },
      "source": [
        "#%%sqlite3\n",
        "#\n",
        "# Escriba una consulta que retorne por cada letra\n",
        "# de la columna K0, el valor máximo de la coumna c12\n",
        "# en la tabla tbl1.\n",
        "#\n",
        "# Rta/\n",
        "#   K0  MAX(c12)  min(C12)\n",
        "# 0  A    938.16    135.80\n",
        "# 1  B    999.72    283.40\n",
        "# 2  C    822.81    267.42\n",
        "# 3  D    756.37    317.77\n",
        "# 4  E    832.44    118.77\n",
        "tmp = %sql Select K0,MAX(c12),MIN(c12) from tbl1 GROUP BY K0\n",
        "rta12 = pd.DataFrame (tmp, columns = ['K0','MAX(c12)','min(C12)']) \n",
        "print(rta12)"
      ],
      "id": "b27775bc-3cb6-4ea8-914e-cb7de38c88a2",
      "execution_count": null,
      "outputs": [
        {
          "output_type": "stream",
          "name": "stdout",
          "text": [
            "  K0  MAX(c12)  min(C12)\n",
            "0  A    938.16    135.80\n",
            "1  B    999.72    283.40\n",
            "2  C    822.81    267.42\n",
            "3  D    756.37    317.77\n",
            "4  E    832.44    118.77\n"
          ]
        }
      ]
    },
    {
      "cell_type": "markdown",
      "metadata": {
        "id": "f1f961aa-8de3-4191-8ff1-7fc54ec0f74e"
      },
      "source": [
        "Ejercicio 13\n",
        "---"
      ],
      "id": "f1f961aa-8de3-4191-8ff1-7fc54ec0f74e"
    },
    {
      "cell_type": "code",
      "metadata": {
        "id": "598b0187-d0e3-4425-8b84-0cc17bbd1009",
        "colab": {
          "base_uri": "https://localhost:8080/"
        },
        "outputId": "3454bb06-97e8-4b75-dbc5-4df0ff7ea488"
      },
      "source": [
        "#%%sqlite3\n",
        "#\n",
        "# Escriba una consulta que retorne por cada letra\n",
        "# de la columna K0, el valor promedio de la columna c12\n",
        "# en la tabla tbl1, para aquellos registros con c13 mayor\n",
        "# a 400.\n",
        "#\n",
        "# Rta/\n",
        "#   K0    avg(c12)\n",
        "# 0  A  476.155000\n",
        "# 1  B  536.523333\n",
        "# 2  C  490.830000\n",
        "# 3  D  709.530000\n",
        "# 4  E  474.825000\n",
        "#\n",
        "tmp = %sql Select K0, AVG(c12) from tbl1 WHERE c13 > 400 GROUP BY K0\n",
        "rta13 = pd.DataFrame (tmp, columns = ['K0','avg(c12)']) \n",
        "print(rta13)"
      ],
      "id": "598b0187-d0e3-4425-8b84-0cc17bbd1009",
      "execution_count": null,
      "outputs": [
        {
          "output_type": "stream",
          "name": "stdout",
          "text": [
            "  K0    avg(c12)\n",
            "0  A  476.155000\n",
            "1  B  536.523333\n",
            "2  C  490.830000\n",
            "3  D  709.530000\n",
            "4  E  474.825000\n"
          ]
        }
      ]
    },
    {
      "cell_type": "markdown",
      "metadata": {
        "id": "b0a91d19-aa02-42fe-8701-8377964e1a1a"
      },
      "source": [
        "Ejercicio 14\n",
        "---"
      ],
      "id": "b0a91d19-aa02-42fe-8701-8377964e1a1a"
    },
    {
      "cell_type": "code",
      "metadata": {
        "id": "b6e2ba7a-5754-45a8-bde1-f0b0d6e9b1bb",
        "colab": {
          "base_uri": "https://localhost:8080/"
        },
        "outputId": "f129b180-0388-4698-9b84-9571413a2e14"
      },
      "source": [
        "#%%sqlite3\n",
        "#\n",
        "# Escriba una consulta que retorne por cada letra\n",
        "# de la columna K0, el valor promedio de la columna c21\n",
        "# en la tabla tbl2, para aquellos registros con c13 mayor\n",
        "# a 400.\n",
        "#\n",
        "# Rta/\n",
        "# K0    avg(c21)\n",
        "# 0  A  593.495000\n",
        "# 1  B  575.470000\n",
        "# 2  C  530.753000\n",
        "# 3  D  655.612500\n",
        "# 4  E  555.323077\n",
        "\n",
        "tmp = %sql Select K0, avg(c21) from tbl1 INNER JOIN tbl2 ON tbl1.K1=tbl2.K1 WHERE c13 > 400 GROUP BY K0\n",
        "rta14 = pd.DataFrame (tmp, columns = ['K0','avg(c21)']) \n",
        "print(rta14)\n"
      ],
      "id": "b6e2ba7a-5754-45a8-bde1-f0b0d6e9b1bb",
      "execution_count": null,
      "outputs": [
        {
          "output_type": "stream",
          "name": "stdout",
          "text": [
            "  K0    avg(c21)\n",
            "0  A  593.495000\n",
            "1  B  575.470000\n",
            "2  C  530.753000\n",
            "3  D  655.612500\n",
            "4  E  555.323077\n"
          ]
        }
      ]
    }
  ]
}